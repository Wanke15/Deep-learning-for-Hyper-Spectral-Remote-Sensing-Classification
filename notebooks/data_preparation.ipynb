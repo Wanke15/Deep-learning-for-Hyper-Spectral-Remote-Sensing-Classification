{
 "cells": [
  {
   "cell_type": "code",
   "execution_count": 1,
   "metadata": {
    "collapsed": true
   },
   "outputs": [],
   "source": [
    "import matplotlib.pyplot as plt\n",
    "%matplotlib inline\n",
    "\n",
    "import numpy as np\n",
    "\n",
    "import scipy.io as sio"
   ]
  },
  {
   "cell_type": "code",
   "execution_count": 2,
   "metadata": {
    "collapsed": false
   },
   "outputs": [
    {
     "data": {
      "text/plain": [
       "<module 'utils' from 'E:\\\\MyPapers\\\\PYTHON\\\\notebooks\\\\utils.py'>"
      ]
     },
     "execution_count": 2,
     "metadata": {},
     "output_type": "execute_result"
    }
   ],
   "source": [
    "import importlib\n",
    "\n",
    "import utils as my_util\n",
    "\n",
    "importlib.reload(my_util)"
   ]
  },
  {
   "cell_type": "code",
   "execution_count": 11,
   "metadata": {
    "collapsed": true
   },
   "outputs": [],
   "source": [
    "spectrel_data = \"E:\\\\MyPapers\\\\高光谱数据\\\\科研实验数据集 - 副本\\\\Pavia University scene\\\\PaviaU.mat\"\n",
    "spectrel_label = \"E:\\\\MyPapers\\\\高光谱数据\\\\科研实验数据集 - 副本\\\\Pavia University scene\\\\PaviaU_gt.mat\""
   ]
  },
  {
   "cell_type": "markdown",
   "metadata": {},
   "source": [
    "- # Load data"
   ]
  },
  {
   "cell_type": "code",
   "execution_count": 24,
   "metadata": {
    "collapsed": false
   },
   "outputs": [
    {
     "name": "stdout",
     "output_type": "stream",
     "text": [
      "(610, 340)\n",
      "(207400,)\n"
     ]
    },
    {
     "data": {
      "text/plain": [
       "<matplotlib.image.AxesImage at 0x17659a10630>"
      ]
     },
     "execution_count": 24,
     "metadata": {},
     "output_type": "execute_result"
    },
    {
     "data": {
      "image/png": "[encoded data removed]",
      "text/plain": [
       "<matplotlib.figure.Figure at 0x17659907160>"
      ]
     },
     "metadata": {},
     "output_type": "display_data"
    }
   ],
   "source": [
    "pavia = sio.loadmat(spectrel_data)\n",
    "pavia_lab = sio.loadmat(spectrel_label)\n",
    "\n",
    "test_pav = pavia['paviaU']\n",
    "test_gt = pavia_lab['paviaU_gt']\n",
    "\n",
    "print(test_gt.shape)\n",
    "\n",
    "test_gt = test_gt.flatten()\n",
    "np.save(\"five_block_dataset_Y.npy\", test_gt)\n",
    "print(test_gt.shape)\n",
    "\n",
    "\n",
    "\n",
    "test_gt = test_gt.reshape((test_pav.shape[0], test_pav.shape[1], 1))\n",
    "\n",
    "exp_dataset = np.concatenate((test_pav, test_gt), axis=2)\n",
    "\n",
    "del(test_pav)\n",
    "del(test_gt)\n"
   ]
  },
  {
   "cell_type": "code",
   "execution_count": 8,
   "metadata": {
    "collapsed": false
   },
   "outputs": [
    {
     "data": {
      "text/plain": [
       "(610, 340, 104)"
      ]
     },
     "execution_count": 8,
     "metadata": {},
     "output_type": "execute_result"
    }
   ],
   "source": [
    "exp_dataset.shape"
   ]
  },
  {
   "cell_type": "code",
   "execution_count": null,
   "metadata": {
    "collapsed": true
   },
   "outputs": [],
   "source": []
  },
  {
   "cell_type": "markdown",
   "metadata": {},
   "source": [
    "- # Data transformation "
   ]
  },
  {
   "cell_type": "code",
   "execution_count": 17,
   "metadata": {
    "collapsed": false
   },
   "outputs": [
    {
     "name": "stdout",
     "output_type": "stream",
     "text": [
      "(610, 340, 103)\n",
      "dataset shape: (207400, 5, 5, 103)\n",
      "loop number: 207400\n"
     ]
    }
   ],
   "source": [
    "feed_pav = exp_dataset[:,:,:-1]\n",
    "print(feed_pav.shape)\n",
    "\n",
    "dataset = my_util.transform(image=feed_pav)\n",
    "\n",
    "del(feed_pav);del(exp_dataset)"
   ]
  },
  {
   "cell_type": "code",
   "execution_count": 18,
   "metadata": {
    "collapsed": false
   },
   "outputs": [
    {
     "name": "stdout",
     "output_type": "stream",
     "text": [
      "float32\n",
      "(207400, 5, 5, 103)\n",
      "534055000\n"
     ]
    }
   ],
   "source": [
    "print(dataset.dtype)\n",
    "print(dataset.shape)\n",
    "print(dataset.size)"
   ]
  },
  {
   "cell_type": "markdown",
   "metadata": {},
   "source": [
    "- # Save data"
   ]
  },
  {
   "cell_type": "code",
   "execution_count": 19,
   "metadata": {
    "collapsed": true
   },
   "outputs": [],
   "source": [
    "np.save(\"five_block_dataset_X.npy\", dataset)"
   ]
  },
  {
   "cell_type": "code",
   "execution_count": 2,
   "metadata": {
    "collapsed": true
   },
   "outputs": [],
   "source": [
    "dataset = np.load(\"five_block_dataset_X.npy\")"
   ]
  },
  {
   "cell_type": "code",
   "execution_count": 13,
   "metadata": {
    "collapsed": true
   },
   "outputs": [],
   "source": [
    "dataset_Y = np.load(\"five_block_dataset_Y.npy\")"
   ]
  },
  {
   "cell_type": "code",
   "execution_count": 14,
   "metadata": {
    "collapsed": false
   },
   "outputs": [
    {
     "name": "stdout",
     "output_type": "stream",
     "text": [
      "(207400, 5, 5, 103)\n",
      "(207400,)\n"
     ]
    }
   ],
   "source": [
    "print(dataset.shape)\n",
    "print(dataset_Y.shape)"
   ]
  },
  {
   "cell_type": "markdown",
   "metadata": {},
   "source": [
    "- # Roughly check out the dataset"
   ]
  },
  {
   "cell_type": "code",
   "execution_count": 121,
   "metadata": {
    "collapsed": false
   },
   "outputs": [
    {
     "data": {
      "text/plain": [
       "\"\\nc=cmaps[pavia_lab['paviaU_gt'][r,c]], \\nc=cmaps[int(ddd[2, 2, 103])],\\n\""
      ]
     },
     "execution_count": 121,
     "metadata": {},
     "output_type": "execute_result"
    }
   ],
   "source": [
    "#Vega10 detailed color code\n",
    "cmaps = ['#1f77b4','#ff7f0e','#2ca02c','#d62728','#9467bd',\n",
    "         '#8c564b', '#e377c2','#7f7f7f','#bcbd22','#17becf']\n",
    "\n",
    "r, c = 320, 120\n",
    "\n",
    "ddd = dataset[r*340+c]\n",
    "'''\n",
    "c=cmaps[pavia_lab['paviaU_gt'][r,c]], \n",
    "c=cmaps[int(ddd[2, 2, 103])],\n",
    "'''"
   ]
  },
  {
   "cell_type": "code",
   "execution_count": 123,
   "metadata": {
    "collapsed": false
   },
   "outputs": [
    {
     "data": {
      "image/png": "[encoded data removed]",
      "text/plain": [
       "<matplotlib.figure.Figure at 0x1bcc9660710>"
      ]
     },
     "metadata": {},
     "output_type": "display_data"
    }
   ],
   "source": [
    "plt.figure()\n",
    "plt.plot(pavia['paviaU'][r,c], label='original', c='red')\n",
    "plt.plot(ddd[2,2,:103], label='block')\n",
    "plt.legend()\n",
    "plt.show()"
   ]
  },
  {
   "cell_type": "code",
   "execution_count": 22,
   "metadata": {
    "collapsed": true
   },
   "outputs": [],
   "source": [
    "del(dataset)"
   ]
  },
  {
   "cell_type": "code",
   "execution_count": 4,
   "metadata": {
    "collapsed": false
   },
   "outputs": [],
   "source": [
    "import keras"
   ]
  },
  {
   "cell_type": "code",
   "execution_count": 2,
   "metadata": {
    "collapsed": true
   },
   "outputs": [],
   "source": [
    "from keras.models import load_model"
   ]
  },
  {
   "cell_type": "code",
   "execution_count": 3,
   "metadata": {
    "collapsed": true
   },
   "outputs": [],
   "source": [
    "my_model = load_model(\"../scripts/hyper_34_trained_model_callback.h5\")"
   ]
  },
  {
   "cell_type": "code",
   "execution_count": null,
   "metadata": {
    "collapsed": true
   },
   "outputs": [],
   "source": [
    "data_34 = np.load(./TF_Practice/train_test_data/X_34_test.npy)"
   ]
  }
 ],
 "metadata": {
  "kernelspec": {
   "display_name": "Python 3",
   "language": "python",
   "name": "python3"
  },
  "language_info": {
   "codemirror_mode": {
    "name": "ipython",
    "version": 3
   },
   "file_extension": ".py",
   "mimetype": "text/x-python",
   "name": "python",
   "nbconvert_exporter": "python",
   "pygments_lexer": "ipython3",
   "version": "3.6.0"
  }
 },
 "nbformat": 4,
 "nbformat_minor": 2
}
