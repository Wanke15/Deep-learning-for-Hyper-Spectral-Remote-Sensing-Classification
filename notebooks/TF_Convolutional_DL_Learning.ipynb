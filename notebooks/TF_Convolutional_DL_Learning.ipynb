{
 "cells": [
  {
   "cell_type": "code",
   "execution_count": 1,
   "metadata": {
    "collapsed": true
   },
   "outputs": [],
   "source": [
    "import tensorflow as tf\n",
    "\n",
    "import matplotlib.pyplot as plt\n",
    "%matplotlib inline\n",
    "\n",
    "import numpy as np\n",
    "\n",
    "import scipy as sp\n",
    "\n",
    "import pandas as pd"
   ]
  },
  {
   "cell_type": "code",
   "execution_count": 2,
   "metadata": {
    "collapsed": true
   },
   "outputs": [],
   "source": [
    "import scipy.io as sio"
   ]
  },
  {
   "cell_type": "code",
   "execution_count": 3,
   "metadata": {
    "collapsed": true
   },
   "outputs": [],
   "source": [
    "spectrel_data = \"E:\\\\毕业论文相关\\\\高光谱数据\\\\科研实验数据集 - 副本\\\\Pavia University scene\\\\PaviaU.mat\"\n",
    "spectrel_label = \"E:\\\\毕业论文相关\\\\高光谱数据\\\\科研实验数据集 - 副本\\\\Pavia University scene\\\\PaviaU_gt.mat\""
   ]
  },
  {
   "cell_type": "code",
   "execution_count": 4,
   "metadata": {
    "collapsed": false
   },
   "outputs": [],
   "source": [
    "pavia = sio.loadmat(spectrel_data)\n",
    "pavia_lab = sio.loadmat(spectrel_label)"
   ]
  },
  {
   "cell_type": "code",
   "execution_count": 8,
   "metadata": {
    "collapsed": false,
    "scrolled": true
   },
   "outputs": [
    {
     "data": {
      "text/plain": [
       "{'__globals__': [],\n",
       " '__header__': b'MATLAB 5.0 MAT-file, Platform: GLNXA64, Created on: Fri May 20 18:21:46 2011',\n",
       " '__version__': '1.0',\n",
       " 'paviaU': array([[[ 647,  499,  464, ..., 3221, 3238, 3250],\n",
       "         [ 604,  546,  527, ..., 2442, 2464, 2528],\n",
       "         [ 621,  746,  556, ..., 2308, 2345, 2361],\n",
       "         ..., \n",
       "         [ 524,  525,  598, ..., 2936, 2940, 2950],\n",
       "         [ 528,  330,   70, ..., 2737, 2774, 2829],\n",
       "         [ 711,  483,  423, ..., 2562, 2539, 2488]],\n",
       " \n",
       "        [[ 705,  681,  668, ..., 2607, 2607, 2609],\n",
       "         [ 891,  692,  453, ..., 1581, 1561, 1522],\n",
       "         [ 547,  511,  604, ..., 1535, 1531, 1538],\n",
       "         ..., \n",
       "         [1149,  658,  434, ..., 3247, 3251, 3277],\n",
       "         [ 917, 1004,  743, ..., 2828, 2806, 2808],\n",
       "         [1037,  849,  547, ..., 2491, 2527, 2522]],\n",
       " \n",
       "        [[1084,  875,  706, ..., 2108, 2167, 2183],\n",
       "         [ 335,  517,  611, ..., 1105, 1109, 1095],\n",
       "         [1042,  683,  318, ...,  806,  791,  814],\n",
       "         ..., \n",
       "         [ 799,  693,  481, ..., 2761, 2791, 2842],\n",
       "         [ 226,  350,  613, ..., 2885, 2879, 2859],\n",
       "         [ 828,  571,  479, ..., 2799, 2809, 2806]],\n",
       " \n",
       "        ..., \n",
       "        [[ 733,  617,  708, ..., 2190, 2189, 2176],\n",
       "         [ 785,  796,  979, ..., 1963, 1983, 1972],\n",
       "         [ 826,  828,  928, ..., 1905, 1939, 1965],\n",
       "         ..., \n",
       "         [ 704,  710,  689, ..., 2401, 2385, 2349],\n",
       "         [ 376,  305,    0, ..., 2449, 2448, 2429],\n",
       "         [1146,  919,  707, ..., 2504, 2541, 2523]],\n",
       " \n",
       "        [[ 785,  727,  871, ..., 2166, 2179, 2178],\n",
       "         [ 856,  894,  719, ..., 2124, 2141, 2156],\n",
       "         [1088, 1122, 1126, ..., 1972, 1997, 2041],\n",
       "         ..., \n",
       "         [ 717,  722,  551, ..., 2551, 2551, 2561],\n",
       "         [ 548,  503,  470, ..., 2486, 2452, 2427],\n",
       "         [ 768,  626,  298, ..., 2404, 2432, 2474]],\n",
       " \n",
       "        [[1006,  954,  771, ..., 2066, 2132, 2151],\n",
       "         [ 970,  745,  853, ..., 2216, 2260, 2246],\n",
       "         [1218, 1255, 1005, ..., 2190, 2222, 2251],\n",
       "         ..., \n",
       "         [ 593,  387,  428, ..., 2382, 2407, 2423],\n",
       "         [ 593,  751,  655, ..., 2312, 2308, 2289],\n",
       "         [ 889,  720,  449, ..., 2416, 2447, 2485]]], dtype=uint16)}"
      ]
     },
     "execution_count": 8,
     "metadata": {},
     "output_type": "execute_result"
    }
   ],
   "source": [
    "pavia"
   ]
  },
  {
   "cell_type": "code",
   "execution_count": 7,
   "metadata": {
    "collapsed": false
   },
   "outputs": [
    {
     "data": {
      "text/plain": [
       "(610, 340, 103)"
      ]
     },
     "execution_count": 7,
     "metadata": {},
     "output_type": "execute_result"
    }
   ],
   "source": [
    "pavia['paviaU'].shape"
   ]
  },
  {
   "cell_type": "code",
   "execution_count": 11,
   "metadata": {
    "collapsed": false
   },
   "outputs": [
    {
     "data": {
      "text/plain": [
       "{'__globals__': [],\n",
       " '__header__': b'MATLAB 5.0 MAT-file, Platform: GLNXA64, Created on: Fri May 20 18:25:52 2011',\n",
       " '__version__': '1.0',\n",
       " 'paviaU_gt': array([[0, 0, 0, ..., 0, 0, 0],\n",
       "        [0, 0, 0, ..., 0, 0, 0],\n",
       "        [0, 0, 0, ..., 0, 0, 0],\n",
       "        ..., \n",
       "        [2, 2, 2, ..., 0, 0, 0],\n",
       "        [2, 2, 2, ..., 0, 0, 0],\n",
       "        [2, 2, 2, ..., 0, 0, 0]], dtype=uint8)}"
      ]
     },
     "execution_count": 11,
     "metadata": {},
     "output_type": "execute_result"
    }
   ],
   "source": [
    "pavia_lab"
   ]
  },
  {
   "cell_type": "code",
   "execution_count": 8,
   "metadata": {
    "collapsed": false
   },
   "outputs": [
    {
     "data": {
      "text/plain": [
       "array([0, 1, 2, 3, 4, 5, 6, 7, 8, 9], dtype=uint8)"
      ]
     },
     "execution_count": 8,
     "metadata": {},
     "output_type": "execute_result"
    }
   ],
   "source": [
    "pavia_lab['paviaU_gt'].shape\n",
    "np.unique(pavia_lab['paviaU_gt'])"
   ]
  },
  {
   "cell_type": "code",
   "execution_count": 5,
   "metadata": {
    "collapsed": false
   },
   "outputs": [],
   "source": [
    "#Vega10 detailed color code\n",
    "cmaps = ['#1f77b4','#ff7f0e','#2ca02c','#d62728','#9467bd',\n",
    "         '#8c564b', '#e377c2','#7f7f7f','#bcbd22','#17becf']"
   ]
  },
  {
   "cell_type": "code",
   "execution_count": 35,
   "metadata": {
    "collapsed": false
   },
   "outputs": [
    {
     "data": {
      "text/plain": [
       "<matplotlib.image.AxesImage at 0x12fa2dfbf98>"
      ]
     },
     "execution_count": 35,
     "metadata": {},
     "output_type": "execute_result"
    },
    {
     "data": {
      "image/png": "[encoded data removed]",
      "text/plain": [
       "<matplotlib.figure.Figure at 0x12fa2d1b828>"
      ]
     },
     "metadata": {},
     "output_type": "display_data"
    }
   ],
   "source": [
    "plt.figure(figsize=(8, 10))\n",
    "\n",
    "plt.imshow(pavia_lab['paviaU_gt'], cmap=plt.get_cmap('Vega10'))"
   ]
  },
  {
   "cell_type": "code",
   "execution_count": 7,
   "metadata": {
    "collapsed": false
   },
   "outputs": [
    {
     "data": {
      "text/plain": [
       "[<matplotlib.lines.Line2D at 0x12f0af9ce10>]"
      ]
     },
     "execution_count": 7,
     "metadata": {},
     "output_type": "execute_result"
    },
    {
     "data": {
      "image/png": "[encoded data removed]",
      "text/plain": [
       "<matplotlib.figure.Figure at 0x12f065ec9e8>"
      ]
     },
     "metadata": {},
     "output_type": "display_data"
    }
   ],
   "source": [
    "r, c = 50, 250\n",
    "plt.plot(pavia['paviaU'][r,c], c=cmaps[pavia_lab['paviaU_gt'][r,c]])"
   ]
  },
  {
   "cell_type": "code",
   "execution_count": 9,
   "metadata": {
    "collapsed": true
   },
   "outputs": [],
   "source": [
    "test_pav = pavia['paviaU']\n",
    "test_gt = pavia_lab['paviaU_gt']"
   ]
  },
  {
   "cell_type": "code",
   "execution_count": 10,
   "metadata": {
    "collapsed": false
   },
   "outputs": [],
   "source": [
    "trans_pav = test_pav.reshape((610*340,103))\n",
    "trans_gt = test_gt.reshape((610*340, 1))"
   ]
  },
  {
   "cell_type": "code",
   "execution_count": 11,
   "metadata": {
    "collapsed": false
   },
   "outputs": [],
   "source": [
    "exp_dataset = np.concatenate((trans_pav, trans_gt), axis=1)"
   ]
  },
  {
   "cell_type": "code",
   "execution_count": 12,
   "metadata": {
    "collapsed": false
   },
   "outputs": [],
   "source": [
    "exp_dataset = exp_dataset.astype('float32')"
   ]
  },
  {
   "cell_type": "code",
   "execution_count": 13,
   "metadata": {
    "collapsed": false
   },
   "outputs": [
    {
     "data": {
      "text/plain": [
       "(207400, 104)"
      ]
     },
     "execution_count": 13,
     "metadata": {},
     "output_type": "execute_result"
    }
   ],
   "source": [
    "exp_dataset.shape"
   ]
  },
  {
   "cell_type": "code",
   "execution_count": 14,
   "metadata": {
    "collapsed": false
   },
   "outputs": [
    {
     "data": {
      "text/plain": [
       "6631"
      ]
     },
     "execution_count": 14,
     "metadata": {},
     "output_type": "execute_result"
    }
   ],
   "source": [
    "sum(exp_dataset[:, 103]==1)"
   ]
  },
  {
   "cell_type": "markdown",
   "metadata": {},
   "source": [
    "# A simple test net using Keras APIs"
   ]
  },
  {
   "cell_type": "code",
   "execution_count": 15,
   "metadata": {
    "collapsed": false
   },
   "outputs": [
    {
     "name": "stderr",
     "output_type": "stream",
     "text": [
      "Using TensorFlow backend.\n",
      "E:\\Anaconda3\\lib\\site-packages\\sklearn\\cross_validation.py:44: DeprecationWarning: This module was deprecated in version 0.18 in favor of the model_selection module into which all the refactored classes and functions are moved. Also note that the interface of the new CV iterators are different from that of this module. This module will be removed in 0.20.\n",
      "  \"This module will be removed in 0.20.\", DeprecationWarning)\n"
     ]
    }
   ],
   "source": [
    "from keras.models import Sequential\n",
    "from keras.layers import Dense, Dropout, Activation\n",
    "from keras.optimizers import SGD\n",
    "\n",
    "from __future__ import absolute_import\n",
    "from __future__ import division\n",
    "from __future__ import print_function\n",
    "\n",
    "\n",
    "from sklearn import metrics\n",
    "from sklearn import cross_validation\n",
    "\n",
    "from sklearn import preprocessing\n",
    "\n",
    "from sklearn.preprocessing import StandardScaler"
   ]
  },
  {
   "cell_type": "code",
   "execution_count": 16,
   "metadata": {
    "collapsed": true
   },
   "outputs": [],
   "source": [
    "from sklearn.model_selection import train_test_split"
   ]
  },
  {
   "cell_type": "code",
   "execution_count": 17,
   "metadata": {
    "collapsed": true
   },
   "outputs": [],
   "source": [
    "X = exp_dataset[:, :-1]\n",
    "y = exp_dataset[:,-1]\n",
    "y = y.astype('int')"
   ]
  },
  {
   "cell_type": "code",
   "execution_count": 18,
   "metadata": {
    "collapsed": false
   },
   "outputs": [],
   "source": [
    "X_tra_val, X_test, y_tra_val, y_test = train_test_split(X, y, test_size=0.2, random_state=42)"
   ]
  },
  {
   "cell_type": "code",
   "execution_count": 19,
   "metadata": {
    "collapsed": false
   },
   "outputs": [],
   "source": [
    "X_tra, X_val, y_tra, y_val = train_test_split(X_tra_val, y_tra_val, test_size=0.2, random_state=42)"
   ]
  },
  {
   "cell_type": "code",
   "execution_count": 20,
   "metadata": {
    "collapsed": true
   },
   "outputs": [],
   "source": [
    "del(X_tra_val)\n",
    "del(y_tra_val)"
   ]
  },
  {
   "cell_type": "code",
   "execution_count": 21,
   "metadata": {
    "collapsed": false
   },
   "outputs": [],
   "source": [
    "scaler = StandardScaler()\n",
    "scaler.fit(X_tra)\n",
    "X_tra_scaled = scaler.transform(X_tra)\n",
    "X_val_scaled = scaler.transform(X_val)\n",
    "X_test_scaled = scaler.transform(X_test)"
   ]
  },
  {
   "cell_type": "code",
   "execution_count": 45,
   "metadata": {
    "collapsed": false
   },
   "outputs": [
    {
     "name": "stdout",
     "output_type": "stream",
     "text": [
      "INFO:tensorflow:Using default config.\n",
      "WARNING:tensorflow:Using temporary folder as model directory: C:\\Users\\farmer\\AppData\\Local\\Temp\\tmplygdo19c\n",
      "INFO:tensorflow:Using config: {'_task_type': None, '_task_id': 0, '_cluster_spec': <tensorflow.python.training.server_lib.ClusterSpec object at 0x0000012F9C144C88>, '_master': '', '_num_ps_replicas': 0, '_num_worker_replicas': 0, '_environment': 'local', '_is_chief': True, '_evaluation_master': '', '_tf_config': gpu_options {\n",
      "  per_process_gpu_memory_fraction: 1\n",
      "}\n",
      ", '_tf_random_seed': None, '_save_summary_steps': 100, '_save_checkpoints_secs': 600, '_log_step_count_steps': 100, '_session_config': None, '_save_checkpoints_steps': None, '_keep_checkpoint_max': 5, '_keep_checkpoint_every_n_hours': 10000, '_model_dir': 'C:\\\\Users\\\\farmer\\\\AppData\\\\Local\\\\Temp\\\\tmplygdo19c'}\n"
     ]
    }
   ],
   "source": [
    "# Build 3 layer DNN with 10, 20, 10 units respectively.\n",
    "feature_columns = tf.contrib.learn.infer_real_valued_columns_from_input(\n",
    "      X_tra_scaled)\n",
    "classifier = tf.contrib.learn.DNNClassifier(\n",
    "      feature_columns=feature_columns, hidden_units=[10, 20, 20, 10], n_classes=10)"
   ]
  },
  {
   "cell_type": "code",
   "execution_count": 46,
   "metadata": {
    "collapsed": false,
    "scrolled": false
   },
   "outputs": [
    {
     "name": "stdout",
     "output_type": "stream",
     "text": [
      "INFO:tensorflow:Create CheckpointSaverHook.\n",
      "INFO:tensorflow:Saving checkpoints for 1 into C:\\Users\\farmer\\AppData\\Local\\Temp\\tmplygdo19c\\model.ckpt.\n",
      "INFO:tensorflow:loss = 2.2342, step = 1\n",
      "INFO:tensorflow:global_step/sec: 2.16867\n",
      "INFO:tensorflow:loss = 0.794689, step = 101 (46.096 sec)\n",
      "INFO:tensorflow:global_step/sec: 2.31027\n",
      "INFO:tensorflow:loss = 0.714341, step = 201 (43.278 sec)\n",
      "INFO:tensorflow:global_step/sec: 2.11298\n",
      "INFO:tensorflow:loss = 0.66396, step = 301 (47.476 sec)\n",
      "INFO:tensorflow:global_step/sec: 2.28337\n",
      "INFO:tensorflow:loss = 0.603269, step = 401 (43.649 sec)\n",
      "INFO:tensorflow:global_step/sec: 2.13135\n",
      "INFO:tensorflow:loss = 0.572369, step = 501 (46.917 sec)\n",
      "INFO:tensorflow:global_step/sec: 2.13779\n",
      "INFO:tensorflow:loss = 0.553129, step = 601 (46.866 sec)\n",
      "INFO:tensorflow:global_step/sec: 1.88949\n",
      "INFO:tensorflow:loss = 0.540574, step = 701 (52.841 sec)\n",
      "INFO:tensorflow:global_step/sec: 1.94423\n",
      "INFO:tensorflow:loss = 0.532243, step = 801 (51.428 sec)\n",
      "INFO:tensorflow:global_step/sec: 2.136\n",
      "INFO:tensorflow:loss = 0.525038, step = 901 (46.928 sec)\n",
      "INFO:tensorflow:global_step/sec: 2.08604\n",
      "INFO:tensorflow:loss = 0.519855, step = 1001 (47.830 sec)\n",
      "INFO:tensorflow:global_step/sec: 1.99277\n",
      "INFO:tensorflow:loss = 0.513283, step = 1101 (50.180 sec)\n",
      "INFO:tensorflow:global_step/sec: 2.03573\n",
      "INFO:tensorflow:loss = 0.507971, step = 1201 (49.204 sec)\n",
      "INFO:tensorflow:Saving checkpoints for 1258 into C:\\Users\\farmer\\AppData\\Local\\Temp\\tmplygdo19c\\model.ckpt.\n",
      "INFO:tensorflow:global_step/sec: 2.05478\n",
      "INFO:tensorflow:loss = 0.503849, step = 1301 (48.582 sec)\n",
      "INFO:tensorflow:global_step/sec: 2.16338\n",
      "INFO:tensorflow:loss = 0.499092, step = 1401 (46.226 sec)\n",
      "INFO:tensorflow:global_step/sec: 2.17641\n",
      "INFO:tensorflow:loss = 0.49473, step = 1501 (46.022 sec)\n",
      "INFO:tensorflow:global_step/sec: 2.14477\n",
      "INFO:tensorflow:loss = 0.490785, step = 1601 (46.550 sec)\n",
      "INFO:tensorflow:global_step/sec: 2.08854\n",
      "INFO:tensorflow:loss = 0.487622, step = 1701 (47.880 sec)\n",
      "INFO:tensorflow:global_step/sec: 2.13233\n",
      "INFO:tensorflow:loss = 0.483969, step = 1801 (46.979 sec)\n",
      "INFO:tensorflow:global_step/sec: 2.14707\n",
      "INFO:tensorflow:loss = 0.479672, step = 1901 (46.494 sec)\n",
      "INFO:tensorflow:global_step/sec: 2.1661\n",
      "INFO:tensorflow:loss = 0.476833, step = 2001 (46.163 sec)\n",
      "INFO:tensorflow:global_step/sec: 2.17808\n",
      "INFO:tensorflow:loss = 0.472819, step = 2101 (45.994 sec)\n",
      "INFO:tensorflow:global_step/sec: 2.14599\n",
      "INFO:tensorflow:loss = 0.470647, step = 2201 (46.521 sec)\n",
      "INFO:tensorflow:global_step/sec: 2.17103\n",
      "INFO:tensorflow:loss = 0.466819, step = 2301 (46.058 sec)\n",
      "INFO:tensorflow:global_step/sec: 2.1652\n",
      "INFO:tensorflow:loss = 0.463177, step = 2401 (46.270 sec)\n",
      "INFO:tensorflow:global_step/sec: 2.16151\n",
      "INFO:tensorflow:loss = 0.460563, step = 2501 (46.182 sec)\n",
      "INFO:tensorflow:Saving checkpoints for 2546 into C:\\Users\\farmer\\AppData\\Local\\Temp\\tmplygdo19c\\model.ckpt.\n",
      "INFO:tensorflow:global_step/sec: 2.11371\n",
      "INFO:tensorflow:loss = 0.458046, step = 2601 (47.309 sec)\n",
      "INFO:tensorflow:global_step/sec: 2.17254\n",
      "INFO:tensorflow:loss = 0.45721, step = 2701 (46.095 sec)\n",
      "INFO:tensorflow:global_step/sec: 2.17774\n",
      "INFO:tensorflow:loss = 0.453205, step = 2801 (45.851 sec)\n",
      "INFO:tensorflow:global_step/sec: 2.18756\n",
      "INFO:tensorflow:loss = 0.452, step = 2901 (45.714 sec)\n",
      "INFO:tensorflow:global_step/sec: 2.18059\n",
      "INFO:tensorflow:loss = 0.448538, step = 3001 (45.915 sec)\n",
      "INFO:tensorflow:global_step/sec: 2.17075\n",
      "INFO:tensorflow:loss = 0.44623, step = 3101 (46.010 sec)\n",
      "INFO:tensorflow:global_step/sec: 2.18121\n",
      "INFO:tensorflow:loss = 0.44516, step = 3201 (45.847 sec)\n",
      "INFO:tensorflow:global_step/sec: 2.18183\n",
      "INFO:tensorflow:loss = 0.441351, step = 3301 (45.908 sec)\n",
      "INFO:tensorflow:global_step/sec: 2.17746\n",
      "INFO:tensorflow:loss = 0.440593, step = 3401 (45.852 sec)\n",
      "INFO:tensorflow:global_step/sec: 2.1846\n",
      "INFO:tensorflow:loss = 0.437399, step = 3501 (45.772 sec)\n",
      "INFO:tensorflow:global_step/sec: 2.17306\n",
      "INFO:tensorflow:loss = 0.436639, step = 3601 (46.101 sec)\n",
      "INFO:tensorflow:global_step/sec: 2.17004\n",
      "INFO:tensorflow:loss = 0.436267, step = 3701 (46.001 sec)\n",
      "INFO:tensorflow:global_step/sec: 2.17412\n",
      "INFO:tensorflow:loss = 0.432467, step = 3801 (45.996 sec)\n",
      "INFO:tensorflow:Saving checkpoints for 3851 into C:\\Users\\farmer\\AppData\\Local\\Temp\\tmplygdo19c\\model.ckpt.\n",
      "INFO:tensorflow:global_step/sec: 2.12117\n",
      "INFO:tensorflow:loss = 0.431159, step = 3901 (47.222 sec)\n",
      "INFO:tensorflow:global_step/sec: 2.15308\n",
      "INFO:tensorflow:loss = 0.430552, step = 4001 (46.365 sec)\n",
      "INFO:tensorflow:global_step/sec: 2.17865\n",
      "INFO:tensorflow:loss = 0.427841, step = 4101 (45.903 sec)\n",
      "INFO:tensorflow:global_step/sec: 2.15952\n",
      "INFO:tensorflow:loss = 0.427189, step = 4201 (46.373 sec)\n",
      "INFO:tensorflow:global_step/sec: 2.18031\n",
      "INFO:tensorflow:loss = 0.424897, step = 4301 (45.794 sec)\n",
      "INFO:tensorflow:global_step/sec: 2.15294\n",
      "INFO:tensorflow:loss = 0.423792, step = 4401 (46.450 sec)\n",
      "INFO:tensorflow:global_step/sec: 2.18012\n",
      "INFO:tensorflow:loss = 0.422148, step = 4501 (45.987 sec)\n",
      "INFO:tensorflow:global_step/sec: 2.14544\n",
      "INFO:tensorflow:loss = 0.422062, step = 4601 (46.491 sec)\n",
      "INFO:tensorflow:global_step/sec: 2.17993\n",
      "INFO:tensorflow:loss = 0.419915, step = 4701 (45.873 sec)\n",
      "INFO:tensorflow:global_step/sec: 2.15248\n",
      "INFO:tensorflow:loss = 0.419225, step = 4801 (46.549 sec)\n",
      "INFO:tensorflow:global_step/sec: 2.17746\n",
      "INFO:tensorflow:loss = 0.418129, step = 4901 (45.835 sec)\n",
      "INFO:tensorflow:global_step/sec: 2.15285\n",
      "INFO:tensorflow:loss = 0.41638, step = 5001 (46.451 sec)\n",
      "INFO:tensorflow:global_step/sec: 2.14998\n",
      "INFO:tensorflow:loss = 0.415049, step = 5101 (46.580 sec)\n",
      "INFO:tensorflow:Saving checkpoints for 5147 into C:\\Users\\farmer\\AppData\\Local\\Temp\\tmplygdo19c\\model.ckpt.\n",
      "INFO:tensorflow:global_step/sec: 2.11736\n",
      "INFO:tensorflow:loss = 0.414129, step = 5201 (47.163 sec)\n",
      "INFO:tensorflow:global_step/sec: 2.17543\n",
      "INFO:tensorflow:loss = 0.413295, step = 5301 (45.967 sec)\n",
      "INFO:tensorflow:global_step/sec: 2.17329\n",
      "INFO:tensorflow:loss = 0.412592, step = 5401 (46.089 sec)\n",
      "INFO:tensorflow:global_step/sec: 2.16324\n",
      "INFO:tensorflow:loss = 0.410922, step = 5501 (46.149 sec)\n",
      "INFO:tensorflow:global_step/sec: 2.17094\n",
      "INFO:tensorflow:loss = 0.410576, step = 5601 (46.064 sec)\n",
      "INFO:tensorflow:global_step/sec: 2.1724\n",
      "INFO:tensorflow:loss = 0.409359, step = 5701 (46.108 sec)\n",
      "INFO:tensorflow:global_step/sec: 2.1719\n",
      "INFO:tensorflow:loss = 0.40818, step = 5801 (45.966 sec)\n",
      "INFO:tensorflow:global_step/sec: 2.16904\n",
      "INFO:tensorflow:loss = 0.406996, step = 5901 (46.104 sec)\n",
      "INFO:tensorflow:global_step/sec: 2.17414\n",
      "INFO:tensorflow:loss = 0.406172, step = 6001 (46.065 sec)\n",
      "INFO:tensorflow:global_step/sec: 2.15453\n",
      "INFO:tensorflow:loss = 0.405292, step = 6101 (46.344 sec)\n",
      "INFO:tensorflow:global_step/sec: 2.14384\n",
      "INFO:tensorflow:loss = 0.404443, step = 6201 (46.648 sec)\n",
      "INFO:tensorflow:global_step/sec: 2.16745\n",
      "INFO:tensorflow:loss = 0.403555, step = 6301 (46.230 sec)\n",
      "INFO:tensorflow:global_step/sec: 2.15016\n",
      "INFO:tensorflow:loss = 0.402351, step = 6401 (46.411 sec)\n",
      "INFO:tensorflow:Saving checkpoints for 6445 into C:\\Users\\farmer\\AppData\\Local\\Temp\\tmplygdo19c\\model.ckpt.\n",
      "INFO:tensorflow:global_step/sec: 2.11547\n",
      "INFO:tensorflow:loss = 0.401719, step = 6501 (47.273 sec)\n",
      "INFO:tensorflow:global_step/sec: 2.15791\n",
      "INFO:tensorflow:loss = 0.402244, step = 6601 (46.395 sec)\n",
      "INFO:tensorflow:global_step/sec: 2.16225\n",
      "INFO:tensorflow:loss = 0.400161, step = 6701 (46.196 sec)\n",
      "INFO:tensorflow:global_step/sec: 2.15712\n",
      "INFO:tensorflow:loss = 0.398977, step = 6801 (46.354 sec)\n",
      "INFO:tensorflow:global_step/sec: 2.16856\n",
      "INFO:tensorflow:loss = 0.39812, step = 6901 (46.241 sec)\n",
      "INFO:tensorflow:global_step/sec: 2.1341\n",
      "INFO:tensorflow:loss = 0.397319, step = 7001 (46.733 sec)\n",
      "INFO:tensorflow:global_step/sec: 2.11082\n",
      "INFO:tensorflow:loss = 0.396379, step = 7101 (47.374 sec)\n",
      "INFO:tensorflow:global_step/sec: 2.15546\n",
      "INFO:tensorflow:loss = 0.395725, step = 7201 (46.474 sec)\n",
      "INFO:tensorflow:global_step/sec: 2.15586\n",
      "INFO:tensorflow:loss = 0.394847, step = 7301 (46.306 sec)\n",
      "INFO:tensorflow:global_step/sec: 2.16357\n",
      "INFO:tensorflow:loss = 0.394842, step = 7401 (46.218 sec)\n",
      "INFO:tensorflow:global_step/sec: 2.15063\n",
      "INFO:tensorflow:loss = 0.394619, step = 7501 (46.618 sec)\n",
      "INFO:tensorflow:global_step/sec: 2.15694\n",
      "INFO:tensorflow:loss = 0.393366, step = 7601 (46.247 sec)\n",
      "INFO:tensorflow:global_step/sec: 2.1497\n",
      "INFO:tensorflow:loss = 0.392589, step = 7701 (46.515 sec)\n",
      "INFO:tensorflow:Saving checkpoints for 7734 into C:\\Users\\farmer\\AppData\\Local\\Temp\\tmplygdo19c\\model.ckpt.\n",
      "INFO:tensorflow:global_step/sec: 2.11808\n",
      "INFO:tensorflow:loss = 0.392218, step = 7801 (47.282 sec)\n",
      "INFO:tensorflow:global_step/sec: 2.11394\n",
      "INFO:tensorflow:loss = 0.39129, step = 7901 (47.234 sec)\n",
      "INFO:tensorflow:global_step/sec: 2.15988\n",
      "INFO:tensorflow:loss = 0.390438, step = 8001 (46.300 sec)\n",
      "INFO:tensorflow:global_step/sec: 2.15561\n",
      "INFO:tensorflow:loss = 0.389886, step = 8101 (46.447 sec)\n",
      "INFO:tensorflow:global_step/sec: 2.15773\n",
      "INFO:tensorflow:loss = 0.38956, step = 8201 (46.289 sec)\n",
      "INFO:tensorflow:global_step/sec: 2.10398\n",
      "INFO:tensorflow:loss = 0.389203, step = 8301 (47.531 sec)\n",
      "INFO:tensorflow:global_step/sec: 2.1631\n",
      "INFO:tensorflow:loss = 0.388386, step = 8401 (46.333 sec)\n",
      "INFO:tensorflow:global_step/sec: 2.16534\n",
      "INFO:tensorflow:loss = 0.387484, step = 8501 (46.076 sec)\n",
      "INFO:tensorflow:global_step/sec: 2.15694\n",
      "INFO:tensorflow:loss = 0.386873, step = 8601 (46.367 sec)\n",
      "INFO:tensorflow:global_step/sec: 2.17203\n",
      "INFO:tensorflow:loss = 0.386488, step = 8701 (46.384 sec)\n",
      "INFO:tensorflow:global_step/sec: 2.14413\n",
      "INFO:tensorflow:loss = 0.38582, step = 8801 (46.290 sec)\n",
      "INFO:tensorflow:global_step/sec: 2.16619\n",
      "INFO:tensorflow:loss = 0.385814, step = 8901 (46.163 sec)\n",
      "INFO:tensorflow:global_step/sec: 2.12328\n",
      "INFO:tensorflow:loss = 0.384969, step = 9001 (47.181 sec)\n",
      "INFO:tensorflow:Saving checkpoints for 9022 into C:\\Users\\farmer\\AppData\\Local\\Temp\\tmplygdo19c\\model.ckpt.\n",
      "INFO:tensorflow:global_step/sec: 2.09484\n",
      "INFO:tensorflow:loss = 0.384424, step = 9101 (47.655 sec)\n",
      "INFO:tensorflow:global_step/sec: 2.07817\n",
      "INFO:tensorflow:loss = 0.383887, step = 9201 (48.117 sec)\n",
      "INFO:tensorflow:global_step/sec: 2.12907\n",
      "INFO:tensorflow:loss = 0.383287, step = 9301 (47.053 sec)\n",
      "INFO:tensorflow:global_step/sec: 2.12939\n",
      "INFO:tensorflow:loss = 0.382531, step = 9401 (46.880 sec)\n",
      "INFO:tensorflow:global_step/sec: 2.13206\n",
      "INFO:tensorflow:loss = 0.382121, step = 9501 (46.902 sec)\n",
      "INFO:tensorflow:global_step/sec: 2.09375\n",
      "INFO:tensorflow:loss = 0.381801, step = 9601 (48.200 sec)\n",
      "INFO:tensorflow:global_step/sec: 2.12089\n",
      "INFO:tensorflow:loss = 0.381212, step = 9701 (46.712 sec)\n",
      "INFO:tensorflow:global_step/sec: 2.1422\n",
      "INFO:tensorflow:loss = 0.380861, step = 9801 (46.679 sec)\n",
      "INFO:tensorflow:global_step/sec: 2.14689\n",
      "INFO:tensorflow:loss = 0.380307, step = 9901 (46.658 sec)\n",
      "INFO:tensorflow:global_step/sec: 2.13526\n",
      "INFO:tensorflow:loss = 0.379609, step = 10001 (46.754 sec)\n",
      "INFO:tensorflow:global_step/sec: 2.14588\n",
      "INFO:tensorflow:loss = 0.379371, step = 10101 (46.604 sec)\n",
      "INFO:tensorflow:global_step/sec: 2.13475\n",
      "INFO:tensorflow:loss = 0.378596, step = 10201 (46.920 sec)\n",
      "INFO:tensorflow:Saving checkpoints for 10296 into C:\\Users\\farmer\\AppData\\Local\\Temp\\tmplygdo19c\\model.ckpt.\n",
      "INFO:tensorflow:global_step/sec: 2.07386\n",
      "INFO:tensorflow:loss = 0.378312, step = 10301 (48.141 sec)\n",
      "INFO:tensorflow:global_step/sec: 2.15222\n",
      "INFO:tensorflow:loss = 0.378058, step = 10401 (46.463 sec)\n",
      "INFO:tensorflow:global_step/sec: 2.15239\n",
      "INFO:tensorflow:loss = 0.377505, step = 10501 (46.874 sec)\n",
      "INFO:tensorflow:global_step/sec: 2.13534\n",
      "INFO:tensorflow:loss = 0.377693, step = 10601 (46.418 sec)\n",
      "INFO:tensorflow:global_step/sec: 2.15142\n",
      "INFO:tensorflow:loss = 0.376329, step = 10701 (46.481 sec)\n",
      "INFO:tensorflow:global_step/sec: 2.15383\n",
      "INFO:tensorflow:loss = 0.375881, step = 10801 (46.508 sec)\n",
      "INFO:tensorflow:global_step/sec: 2.0859\n",
      "INFO:tensorflow:loss = 0.377636, step = 10901 (47.861 sec)\n",
      "INFO:tensorflow:global_step/sec: 2.15411\n",
      "INFO:tensorflow:loss = 0.37505, step = 11001 (46.423 sec)\n",
      "INFO:tensorflow:global_step/sec: 2.14427\n",
      "INFO:tensorflow:loss = 0.373998, step = 11101 (46.714 sec)\n",
      "INFO:tensorflow:global_step/sec: 2.14839\n",
      "INFO:tensorflow:loss = 0.376177, step = 11201 (46.468 sec)\n",
      "INFO:tensorflow:global_step/sec: 2.1462\n",
      "INFO:tensorflow:loss = 0.374682, step = 11301 (46.596 sec)\n",
      "INFO:tensorflow:global_step/sec: 2.14689\n",
      "INFO:tensorflow:loss = 0.373585, step = 11401 (46.687 sec)\n",
      "INFO:tensorflow:global_step/sec: 2.14385\n",
      "INFO:tensorflow:loss = 0.37377, step = 11501 (46.538 sec)\n",
      "INFO:tensorflow:Saving checkpoints for 11580 into C:\\Users\\farmer\\AppData\\Local\\Temp\\tmplygdo19c\\model.ckpt.\n",
      "INFO:tensorflow:global_step/sec: 2.09486\n",
      "INFO:tensorflow:loss = 0.373522, step = 11601 (47.734 sec)\n",
      "INFO:tensorflow:global_step/sec: 2.14897\n",
      "INFO:tensorflow:loss = 0.372812, step = 11701 (46.605 sec)\n",
      "INFO:tensorflow:global_step/sec: 2.13038\n",
      "INFO:tensorflow:loss = 0.371783, step = 11801 (46.874 sec)\n",
      "INFO:tensorflow:global_step/sec: 2.14722\n",
      "INFO:tensorflow:loss = 0.372724, step = 11901 (46.565 sec)\n",
      "INFO:tensorflow:global_step/sec: 2.14468\n",
      "INFO:tensorflow:loss = 0.372116, step = 12001 (46.693 sec)\n",
      "INFO:tensorflow:global_step/sec: 2.14929\n",
      "INFO:tensorflow:loss = 0.372476, step = 12101 (46.462 sec)\n",
      "INFO:tensorflow:global_step/sec: 2.08786\n",
      "INFO:tensorflow:loss = 0.370932, step = 12201 (47.896 sec)\n",
      "INFO:tensorflow:global_step/sec: 2.14218\n",
      "INFO:tensorflow:loss = 0.371678, step = 12301 (46.753 sec)\n",
      "INFO:tensorflow:global_step/sec: 2.15137\n",
      "INFO:tensorflow:loss = 0.370546, step = 12401 (46.413 sec)\n",
      "INFO:tensorflow:global_step/sec: 2.14445\n",
      "INFO:tensorflow:loss = 0.370201, step = 12501 (46.630 sec)\n",
      "INFO:tensorflow:global_step/sec: 2.12993\n",
      "INFO:tensorflow:loss = 0.370927, step = 12601 (47.021 sec)\n",
      "INFO:tensorflow:global_step/sec: 2.14602\n",
      "INFO:tensorflow:loss = 0.370188, step = 12701 (46.529 sec)\n",
      "INFO:tensorflow:global_step/sec: 2.10544\n",
      "INFO:tensorflow:loss = 0.369666, step = 12801 (47.494 sec)\n",
      "INFO:tensorflow:Saving checkpoints for 12860 into C:\\Users\\farmer\\AppData\\Local\\Temp\\tmplygdo19c\\model.ckpt.\n",
      "INFO:tensorflow:global_step/sec: 2.08666\n",
      "INFO:tensorflow:loss = 0.370023, step = 12901 (47.922 sec)\n",
      "INFO:tensorflow:global_step/sec: 2.14312\n",
      "INFO:tensorflow:loss = 0.368965, step = 13001 (46.662 sec)\n",
      "INFO:tensorflow:global_step/sec: 2.14788\n",
      "INFO:tensorflow:loss = 0.368822, step = 13101 (46.559 sec)\n",
      "INFO:tensorflow:global_step/sec: 2.13347\n",
      "INFO:tensorflow:loss = 0.36881, step = 13201 (46.962 sec)\n",
      "INFO:tensorflow:global_step/sec: 2.14207\n",
      "INFO:tensorflow:loss = 0.368438, step = 13301 (46.593 sec)\n",
      "INFO:tensorflow:global_step/sec: 2.11024\n",
      "INFO:tensorflow:loss = 0.368184, step = 13401 (47.390 sec)\n",
      "INFO:tensorflow:global_step/sec: 2.13767\n",
      "INFO:tensorflow:loss = 0.368, step = 13501 (46.851 sec)\n",
      "INFO:tensorflow:global_step/sec: 2.13457\n",
      "INFO:tensorflow:loss = 0.367702, step = 13601 (46.776 sec)\n",
      "INFO:tensorflow:global_step/sec: 2.15355\n",
      "INFO:tensorflow:loss = 0.367901, step = 13701 (46.436 sec)\n",
      "INFO:tensorflow:global_step/sec: 2.14699\n",
      "INFO:tensorflow:loss = 0.367406, step = 13801 (46.641 sec)\n",
      "INFO:tensorflow:global_step/sec: 2.14498\n",
      "INFO:tensorflow:loss = 0.366002, step = 13901 (46.556 sec)\n",
      "INFO:tensorflow:global_step/sec: 2.15397\n",
      "INFO:tensorflow:loss = 0.367882, step = 14001 (46.425 sec)\n",
      "INFO:tensorflow:global_step/sec: 2.13868\n",
      "INFO:tensorflow:loss = 0.366685, step = 14101 (46.842 sec)\n",
      "INFO:tensorflow:Saving checkpoints for 14142 into C:\\Users\\farmer\\AppData\\Local\\Temp\\tmplygdo19c\\model.ckpt.\n",
      "INFO:tensorflow:global_step/sec: 2.08326\n",
      "INFO:tensorflow:loss = 0.365311, step = 14201 (47.918 sec)\n",
      "INFO:tensorflow:global_step/sec: 2.14533\n",
      "INFO:tensorflow:loss = 0.366725, step = 14301 (46.616 sec)\n",
      "INFO:tensorflow:global_step/sec: 2.13831\n",
      "INFO:tensorflow:loss = 0.364827, step = 14401 (46.843 sec)\n",
      "INFO:tensorflow:global_step/sec: 2.13507\n",
      "INFO:tensorflow:loss = 0.366143, step = 14501 (46.758 sec)\n",
      "INFO:tensorflow:global_step/sec: 2.13953\n",
      "INFO:tensorflow:loss = 0.365458, step = 14601 (46.744 sec)\n",
      "INFO:tensorflow:global_step/sec: 2.09\n",
      "INFO:tensorflow:loss = 0.364331, step = 14701 (47.910 sec)\n",
      "INFO:tensorflow:global_step/sec: 2.13751\n",
      "INFO:tensorflow:loss = 0.365364, step = 14801 (46.713 sec)\n",
      "INFO:tensorflow:global_step/sec: 2.14131\n",
      "INFO:tensorflow:loss = 0.36394, step = 14901 (46.702 sec)\n",
      "INFO:tensorflow:global_step/sec: 2.13823\n",
      "INFO:tensorflow:loss = 0.364822, step = 15001 (46.835 sec)\n",
      "INFO:tensorflow:global_step/sec: 2.14196\n",
      "INFO:tensorflow:loss = 0.363512, step = 15101 (46.620 sec)\n",
      "INFO:tensorflow:global_step/sec: 2.13907\n",
      "INFO:tensorflow:loss = 0.363814, step = 15201 (46.749 sec)\n",
      "INFO:tensorflow:global_step/sec: 2.14642\n",
      "INFO:tensorflow:loss = 0.363178, step = 15301 (46.663 sec)\n",
      "INFO:tensorflow:global_step/sec: 2.12581\n",
      "INFO:tensorflow:loss = 0.363581, step = 15401 (46.966 sec)\n",
      "INFO:tensorflow:Saving checkpoints for 15421 into C:\\Users\\farmer\\AppData\\Local\\Temp\\tmplygdo19c\\model.ckpt.\n",
      "INFO:tensorflow:global_step/sec: 2.07458\n",
      "INFO:tensorflow:loss = 0.363214, step = 15501 (48.200 sec)\n",
      "INFO:tensorflow:global_step/sec: 2.13953\n",
      "INFO:tensorflow:loss = 0.363006, step = 15601 (46.815 sec)\n",
      "INFO:tensorflow:global_step/sec: 2.12837\n",
      "INFO:tensorflow:loss = 0.362381, step = 15701 (46.911 sec)\n",
      "INFO:tensorflow:global_step/sec: 2.1384\n",
      "INFO:tensorflow:loss = 0.362739, step = 15801 (46.763 sec)\n",
      "INFO:tensorflow:global_step/sec: 2.13018\n",
      "INFO:tensorflow:loss = 0.362522, step = 15901 (47.012 sec)\n",
      "INFO:tensorflow:global_step/sec: 2.08488\n",
      "INFO:tensorflow:loss = 0.362144, step = 16001 (47.897 sec)\n",
      "INFO:tensorflow:global_step/sec: 2.13409\n",
      "INFO:tensorflow:loss = 0.362395, step = 16101 (46.855 sec)\n",
      "INFO:tensorflow:global_step/sec: 2.13743\n",
      "INFO:tensorflow:loss = 0.36145, step = 16201 (46.842 sec)\n",
      "INFO:tensorflow:global_step/sec: 2.13765\n",
      "INFO:tensorflow:loss = 0.361497, step = 16301 (46.725 sec)\n",
      "INFO:tensorflow:global_step/sec: 2.1325\n",
      "INFO:tensorflow:loss = 0.361464, step = 16401 (46.891 sec)\n",
      "INFO:tensorflow:global_step/sec: 2.14176\n",
      "INFO:tensorflow:loss = 0.361283, step = 16501 (46.798 sec)\n",
      "INFO:tensorflow:global_step/sec: 2.11791\n",
      "INFO:tensorflow:loss = 0.36053, step = 16601 (47.114 sec)\n",
      "INFO:tensorflow:Saving checkpoints for 16695 into C:\\Users\\farmer\\AppData\\Local\\Temp\\tmplygdo19c\\model.ckpt.\n",
      "INFO:tensorflow:global_step/sec: 2.05949\n",
      "INFO:tensorflow:loss = 0.360565, step = 16701 (48.551 sec)\n",
      "INFO:tensorflow:global_step/sec: 2.12719\n",
      "INFO:tensorflow:loss = 0.360292, step = 16801 (47.111 sec)\n",
      "INFO:tensorflow:global_step/sec: 2.12558\n",
      "INFO:tensorflow:loss = 0.359888, step = 16901 (46.946 sec)\n",
      "INFO:tensorflow:global_step/sec: 2.14614\n",
      "INFO:tensorflow:loss = 0.360981, step = 17001 (46.596 sec)\n",
      "INFO:tensorflow:global_step/sec: 2.14021\n",
      "INFO:tensorflow:loss = 0.359601, step = 17101 (46.909 sec)\n",
      "INFO:tensorflow:global_step/sec: 2.14595\n",
      "INFO:tensorflow:loss = 0.359734, step = 17201 (46.415 sec)\n",
      "INFO:tensorflow:global_step/sec: 2.10133\n",
      "INFO:tensorflow:loss = 0.359643, step = 17301 (47.589 sec)\n",
      "INFO:tensorflow:global_step/sec: 2.16735\n",
      "INFO:tensorflow:loss = 0.359136, step = 17401 (46.260 sec)\n",
      "INFO:tensorflow:global_step/sec: 2.15767\n",
      "INFO:tensorflow:loss = 0.358566, step = 17501 (46.223 sec)\n",
      "INFO:tensorflow:global_step/sec: 2.17055\n",
      "INFO:tensorflow:loss = 0.358872, step = 17601 (46.071 sec)\n",
      "INFO:tensorflow:global_step/sec: 2.16409\n",
      "INFO:tensorflow:loss = 0.358525, step = 17701 (46.284 sec)\n",
      "INFO:tensorflow:global_step/sec: 2.15507\n",
      "INFO:tensorflow:loss = 0.358051, step = 17801 (46.327 sec)\n",
      "INFO:tensorflow:global_step/sec: 2.17116\n",
      "INFO:tensorflow:loss = 0.358405, step = 17901 (46.057 sec)\n",
      "INFO:tensorflow:Saving checkpoints for 17982 into C:\\Users\\farmer\\AppData\\Local\\Temp\\tmplygdo19c\\model.ckpt.\n",
      "INFO:tensorflow:global_step/sec: 2.09431\n",
      "INFO:tensorflow:loss = 0.357836, step = 18001 (47.750 sec)\n",
      "INFO:tensorflow:global_step/sec: 2.16132\n",
      "INFO:tensorflow:loss = 0.357602, step = 18101 (46.267 sec)\n",
      "INFO:tensorflow:global_step/sec: 2.15851\n",
      "INFO:tensorflow:loss = 0.357374, step = 18201 (46.330 sec)\n",
      "INFO:tensorflow:global_step/sec: 2.16805\n",
      "INFO:tensorflow:loss = 0.356812, step = 18301 (46.237 sec)\n",
      "INFO:tensorflow:global_step/sec: 2.15094\n",
      "INFO:tensorflow:loss = 0.356853, step = 18401 (46.375 sec)\n",
      "INFO:tensorflow:global_step/sec: 2.16796\n",
      "INFO:tensorflow:loss = 0.358416, step = 18501 (46.127 sec)\n",
      "INFO:tensorflow:global_step/sec: 2.10061\n",
      "INFO:tensorflow:loss = 0.356095, step = 18601 (47.673 sec)\n",
      "INFO:tensorflow:global_step/sec: 2.17022\n",
      "INFO:tensorflow:loss = 0.357939, step = 18701 (46.019 sec)\n",
      "INFO:tensorflow:global_step/sec: 2.1635\n",
      "INFO:tensorflow:loss = 0.35575, step = 18801 (46.211 sec)\n",
      "INFO:tensorflow:global_step/sec: 2.16005\n",
      "INFO:tensorflow:loss = 0.356849, step = 18901 (46.368 sec)\n",
      "INFO:tensorflow:global_step/sec: 2.15511\n",
      "INFO:tensorflow:loss = 0.355418, step = 19001 (46.330 sec)\n",
      "INFO:tensorflow:global_step/sec: 2.16135\n",
      "INFO:tensorflow:loss = 0.356711, step = 19101 (46.265 sec)\n",
      "INFO:tensorflow:global_step/sec: 2.16843\n",
      "INFO:tensorflow:loss = 0.355107, step = 19201 (46.191 sec)\n",
      "INFO:tensorflow:Saving checkpoints for 19274 into C:\\Users\\farmer\\AppData\\Local\\Temp\\tmplygdo19c\\model.ckpt.\n",
      "INFO:tensorflow:global_step/sec: 2.10664\n",
      "INFO:tensorflow:loss = 0.356052, step = 19301 (47.393 sec)\n",
      "INFO:tensorflow:global_step/sec: 2.16994\n",
      "INFO:tensorflow:loss = 0.354935, step = 19401 (46.088 sec)\n",
      "INFO:tensorflow:global_step/sec: 2.15395\n",
      "INFO:tensorflow:loss = 0.355661, step = 19501 (46.495 sec)\n",
      "INFO:tensorflow:global_step/sec: 2.16856\n",
      "INFO:tensorflow:loss = 0.354612, step = 19601 (46.044 sec)\n",
      "INFO:tensorflow:global_step/sec: 2.16168\n",
      "INFO:tensorflow:loss = 0.354843, step = 19701 (46.258 sec)\n",
      "INFO:tensorflow:global_step/sec: 2.16243\n",
      "INFO:tensorflow:loss = 0.354012, step = 19801 (46.392 sec)\n",
      "INFO:tensorflow:global_step/sec: 2.09633\n",
      "INFO:tensorflow:loss = 0.355927, step = 19901 (47.554 sec)\n",
      "INFO:tensorflow:Saving checkpoints for 20000 into C:\\Users\\farmer\\AppData\\Local\\Temp\\tmplygdo19c\\model.ckpt.\n",
      "INFO:tensorflow:Loss for final step: 0.353291.\n",
      "INFO:tensorflow:Restoring parameters from C:\\Users\\farmer\\AppData\\Local\\Temp\\tmplygdo19c\\model.ckpt-20000\n",
      "Accuracy: 0.849204\n"
     ]
    }
   ],
   "source": [
    "# Fit and predict.\n",
    "classifier.fit(X_tra_scaled, y_tra, steps=20000)\n",
    "predictions = list(classifier.predict(X_val_scaled, as_iterable=True))\n",
    "score = metrics.accuracy_score(y_val, predictions)\n",
    "print('Accuracy: {0:f}'.format(score))"
   ]
  },
  {
   "cell_type": "code",
   "execution_count": 47,
   "metadata": {
    "collapsed": false
   },
   "outputs": [
    {
     "name": "stdout",
     "output_type": "stream",
     "text": [
      "INFO:tensorflow:Restoring parameters from C:\\Users\\farmer\\AppData\\Local\\Temp\\tmplygdo19c\\model.ckpt-20000\n"
     ]
    }
   ],
   "source": [
    "pav_scaled = scaler.transform(X)#scaling\n",
    "pav_pred = np.array(list(classifier.predict(pav_scaled)))\n",
    "pav_finall = pav_pred.reshape((610, 340))#transform into 2-d image array"
   ]
  },
  {
   "cell_type": "code",
   "execution_count": 48,
   "metadata": {
    "collapsed": false,
    "scrolled": false
   },
   "outputs": [
    {
     "data": {
      "text/plain": [
       "<matplotlib.image.AxesImage at 0x12f9f13f630>"
      ]
     },
     "execution_count": 48,
     "metadata": {},
     "output_type": "execute_result"
    },
    {
     "data": {
      "image/png": "[encoded data removed]",
      "text/plain": [
       "<matplotlib.figure.Figure at 0x12f9f541ba8>"
      ]
     },
     "metadata": {},
     "output_type": "display_data"
    }
   ],
   "source": [
    "plt.figure(figsize=(8, 10))\n",
    "gt_ax = plt.subplot(121)\n",
    "gt_ax.set_title('Ground truth')\n",
    "gt_ax.imshow(pavia_lab['paviaU_gt'], cmap=plt.get_cmap('Vega10'))\n",
    "\n",
    "pre_ax = plt.subplot(122)\n",
    "pre_ax.set_title('Prediction')\n",
    "pre_ax.imshow(pav_finall, cmap=plt.get_cmap('Vega10'))"
   ]
  },
  {
   "cell_type": "code",
   "execution_count": null,
   "metadata": {
    "collapsed": true
   },
   "outputs": [],
   "source": []
  }
 ],
 "metadata": {
  "kernelspec": {
   "display_name": "Python 3",
   "language": "python",
   "name": "python3"
  },
  "language_info": {
   "codemirror_mode": {
    "name": "ipython",
    "version": 3
   },
   "file_extension": ".py",
   "mimetype": "text/x-python",
   "name": "python",
   "nbconvert_exporter": "python",
   "pygments_lexer": "ipython3",
   "version": "3.6.0"
  }
 },
 "nbformat": 4,
 "nbformat_minor": 2
}
